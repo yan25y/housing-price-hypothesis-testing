{
 "cells": [
  {
   "cell_type": "markdown",
   "metadata": {},
   "source": [
    "---\n",
    "\n",
    "_You are currently looking at **version 1.1** of this notebook. To download notebooks and datafiles, as well as get help on Jupyter notebooks in the Coursera platform, visit the [Jupyter Notebook FAQ](https://www.coursera.org/learn/python-data-analysis/resources/0dhYG) course resource._\n",
    "\n",
    "---"
   ]
  },
  {
   "cell_type": "code",
   "execution_count": 4,
   "metadata": {
    "collapsed": true
   },
   "outputs": [],
   "source": [
    "import pandas as pd\n",
    "import numpy as np\n",
    "from scipy.stats import ttest_ind"
   ]
  },
  {
   "cell_type": "markdown",
   "metadata": {},
   "source": [
    "# Assignment 4 - Hypothesis Testing\n",
    "This assignment requires more individual learning than previous assignments - you are encouraged to check out the [pandas documentation](http://pandas.pydata.org/pandas-docs/stable/) to find functions or methods you might not have used yet, or ask questions on [Stack Overflow](http://stackoverflow.com/) and tag them as pandas and python related. And of course, the discussion forums are open for interaction with your peers and the course staff.\n",
    "\n",
    "Definitions:\n",
    "* A _quarter_ is a specific three month period, Q1 is January through March, Q2 is April through June, Q3 is July through September, Q4 is October through December.\n",
    "* A _recession_ is defined as starting with two consecutive quarters of GDP decline, and ending with two consecutive quarters of GDP growth.\n",
    "* A _recession bottom_ is the quarter within a recession which had the lowest GDP.\n",
    "* A _university town_ is a city which has a high percentage of university students compared to the total population of the city.\n",
    "\n",
    "**Hypothesis**: University towns have their mean housing prices less effected by recessions. Run a t-test to compare the ratio of the mean price of houses in university towns the quarter before the recession starts compared to the recession bottom. (`price_ratio=quarter_before_recession/recession_bottom`)\n",
    "\n",
    "The following data files are available for this assignment:\n",
    "* From the [Zillow research data site](http://www.zillow.com/research/data/) there is housing data for the United States. In particular the datafile for [all homes at a city level](http://files.zillowstatic.com/research/public/City/City_Zhvi_AllHomes.csv), ```City_Zhvi_AllHomes.csv```, has median home sale prices at a fine grained level.\n",
    "* From the Wikipedia page on college towns is a list of [university towns in the United States](https://en.wikipedia.org/wiki/List_of_college_towns#College_towns_in_the_United_States) which has been copy and pasted into the file ```university_towns.txt```.\n",
    "* From Bureau of Economic Analysis, US Department of Commerce, the [GDP over time](http://www.bea.gov/national/index.htm#gdp) of the United States in current dollars (use the chained value in 2009 dollars), in quarterly intervals, in the file ```gdplev.xls```. For this assignment, only look at GDP data from the first quarter of 2000 onward.\n",
    "\n",
    "Each function in this assignment below is worth 10%, with the exception of ```run_ttest()```, which is worth 50%."
   ]
  },
  {
   "cell_type": "code",
   "execution_count": 5,
   "metadata": {
    "collapsed": true
   },
   "outputs": [],
   "source": [
    "# Use this dictionary to map state names to two letter acronyms\n",
    "states = {'OH': 'Ohio', 'KY': 'Kentucky', 'AS': 'American Samoa', 'NV': 'Nevada', 'WY': 'Wyoming', 'NA': 'National', 'AL': 'Alabama', 'MD': 'Maryland', 'AK': 'Alaska', 'UT': 'Utah', 'OR': 'Oregon', 'MT': 'Montana', 'IL': 'Illinois', 'TN': 'Tennessee', 'DC': 'District of Columbia', 'VT': 'Vermont', 'ID': 'Idaho', 'AR': 'Arkansas', 'ME': 'Maine', 'WA': 'Washington', 'HI': 'Hawaii', 'WI': 'Wisconsin', 'MI': 'Michigan', 'IN': 'Indiana', 'NJ': 'New Jersey', 'AZ': 'Arizona', 'GU': 'Guam', 'MS': 'Mississippi', 'PR': 'Puerto Rico', 'NC': 'North Carolina', 'TX': 'Texas', 'SD': 'South Dakota', 'MP': 'Northern Mariana Islands', 'IA': 'Iowa', 'MO': 'Missouri', 'CT': 'Connecticut', 'WV': 'West Virginia', 'SC': 'South Carolina', 'LA': 'Louisiana', 'KS': 'Kansas', 'NY': 'New York', 'NE': 'Nebraska', 'OK': 'Oklahoma', 'FL': 'Florida', 'CA': 'California', 'CO': 'Colorado', 'PA': 'Pennsylvania', 'DE': 'Delaware', 'NM': 'New Mexico', 'RI': 'Rhode Island', 'MN': 'Minnesota', 'VI': 'Virgin Islands', 'NH': 'New Hampshire', 'MA': 'Massachusetts', 'GA': 'Georgia', 'ND': 'North Dakota', 'VA': 'Virginia'}"
   ]
  },
  {
   "cell_type": "code",
   "execution_count": 6,
   "metadata": {
    "collapsed": true,
    "umich_part_id": "021",
    "umich_partlist_id": "004"
   },
   "outputs": [],
   "source": [
    "def get_list_of_university_towns():\n",
    "    '''Returns a DataFrame of towns and the states they are in from the \n",
    "    university_towns.txt list. The format of the DataFrame should be:\n",
    "    DataFrame( [ [\"Michigan\", \"Ann Arbor\"], [\"Michigan\", \"Yipsilanti\"] ], \n",
    "    columns=[\"State\", \"RegionName\"]  )\n",
    "    \n",
    "    The following cleaning needs to be done:\n",
    "\n",
    "    1. For \"State\", removing characters from \"[\" to the end.\n",
    "    2. For \"RegionName\", when applicable, removing every character from \" (\" to the end.\n",
    "    3. Depending on how you read the data, you may need to remove newline character '\\n'. '''\n",
    "    import pandas as pd \n",
    "    \n",
    "    ut_list=[]\n",
    "    with open('university_towns.txt') as f:\n",
    "        for line in f:\n",
    "            if '[edit]'in line:\n",
    "                state = line.split('[')[0].strip()\n",
    "            else:\n",
    "                ut_list.append((state,line.split('(')[0].strip()))\n",
    "\n",
    "    university_towns=pd.DataFrame(ut_list)\n",
    "    university_towns.columns=['State','RegionName']\n",
    "    \n",
    "\n",
    "    return university_towns"
   ]
  },
  {
   "cell_type": "code",
   "execution_count": 7,
   "metadata": {
    "collapsed": true,
    "umich_part_id": "022",
    "umich_partlist_id": "004"
   },
   "outputs": [],
   "source": [
    "def get_recession_start():\n",
    "    '''Returns the year and quarter of the recession start time as a \n",
    "    string value in a format such as 2005q3'''\n",
    "    import pandas as pd\n",
    "    \n",
    "    df=pd.read_excel('gdplev.xls',skiprows=7)\n",
    "    #GDP_year=df[df.columns[[0,1,2]]].dropna()\n",
    "    #GDP_year.columns=['Year','current dollars','chained 2009 dollars']\n",
    "    GDP=df[df.columns[[4,5,6]]].dropna()\n",
    "    GDP.columns=['Quarter','current dollars','chained 2009 dollars']\n",
    "    GDP['year']=GDP['Quarter'].apply(lambda x: x.split('q')[0].strip())\n",
    "    GDP=GDP[GDP['year'].apply(lambda x: int(x))>=2000].reset_index(drop=True)\n",
    "    \n",
    "    year_quarter_start=[]\n",
    "    \n",
    "    for i in range(0,len(GDP)-2):\n",
    "        if (GDP.iloc[i][1] > GDP.iloc[i+1][1]) & (GDP.iloc[i+1][1] > GDP.iloc[i+2][1]):\n",
    "            year_quarter_start.append(GDP.iloc[i][0])\n",
    "        \n",
    "    return year_quarter_start[0]"
   ]
  },
  {
   "cell_type": "code",
   "execution_count": 8,
   "metadata": {
    "collapsed": true,
    "umich_part_id": "023",
    "umich_partlist_id": "004"
   },
   "outputs": [],
   "source": [
    "def get_recession_end():\n",
    "    '''Returns the year and quarter of the recession end time as a \n",
    "    string value in a format such as 2005q3'''\n",
    "    import pandas as pd \n",
    "    start = get_recession_start()\n",
    "    df=pd.read_excel('gdplev.xls',skiprows=7)\n",
    "    GDP=df[df.columns[[4,5,6]]].dropna()\n",
    "    GDP.columns=['Quarter','current dollars','chained 2009 dollars']\n",
    "    GDP['year']=GDP['Quarter'].apply(lambda x: x.split('q')[0].strip())\n",
    "    GDP=GDP[GDP['year'].apply(lambda x: int(x))>=2000].reset_index(drop=True)\n",
    "    start_index = GDP[GDP['Quarter']==start].index.values\n",
    "    year_quarter_end = []\n",
    "    \n",
    "    for i in range(start_index[0],len(GDP)-2):\n",
    "        if (GDP.iloc[i][1] < GDP.iloc[i+1][1]) & (GDP.iloc[i+1][1] < GDP.iloc[i+2][1]):\n",
    "            year_quarter_end.append(GDP.iloc[i+2][0])\n",
    "    \n",
    "    return year_quarter_end[0]"
   ]
  },
  {
   "cell_type": "code",
   "execution_count": 9,
   "metadata": {
    "collapsed": true,
    "umich_part_id": "024",
    "umich_partlist_id": "004"
   },
   "outputs": [],
   "source": [
    "def get_recession_bottom():\n",
    "    '''Returns the year and quarter of the recession bottom time as a \n",
    "    string value in a format such as 2005q3'''\n",
    "    start = get_recession_start()\n",
    "    df=pd.read_excel('gdplev.xls',skiprows=7)\n",
    "    GDP=df[df.columns[[4,5,6]]].dropna()\n",
    "    GDP.columns=['Quarter','current dollars','chained 2009 dollars']\n",
    "    GDP['year']=GDP['Quarter'].apply(lambda x: x.split('q')[0].strip())\n",
    "    GDP=GDP[GDP['year'].apply(lambda x: int(x))>=2000].reset_index(drop=True)\n",
    "    \n",
    "    start_index = GDP[GDP['Quarter']==start].index.values\n",
    "    end = get_recession_end()\n",
    "    end_index = GDP[GDP['Quarter']==end].index.values\n",
    "    recession=GDP.iloc[start_index[0]:end_index[0]+1].reset_index(drop=True)\n",
    "    recession_bottom=recession.iloc[recession['current dollars'].argmin()][0]\n",
    "    \n",
    "    return recession_bottom"
   ]
  },
  {
   "cell_type": "code",
   "execution_count": 13,
   "metadata": {
    "collapsed": true,
    "umich_part_id": "025",
    "umich_partlist_id": "004"
   },
   "outputs": [],
   "source": [
    "def convert_housing_data_to_quarters():\n",
    "    '''Converts the housing data to quarters and returns it as mean \n",
    "    values in a dataframe. This dataframe should be a dataframe with\n",
    "    columns for 2000q1 through 2016q3, and should have a multi-index\n",
    "    in the shape of [\"State\",\"RegionName\"].\n",
    "    \n",
    "    Note: Quarters are defined in the assignment description, they are\n",
    "    not arbitrary three month periods.\n",
    "    \n",
    "    The resulting dataframe should have 67 columns, and 10,730 rows.\n",
    "    '''\n",
    "    \n",
    "    '''import pandas as pd\n",
    "    house_data=pd.read_csv('City_Zhvi_AllHomes.csv')\n",
    "    year_start_index=house_data.columns.get_loc('2000-01')\n",
    "    year_month=house_data.iloc[:,51:]\n",
    "    \n",
    "    for i in range(year_month.shape[1]):\n",
    "        year=year_month.columns[i].split('-')[0]\n",
    "        if year_month.columns[i].split('-')[1].strip() in ['01','02','03']:\n",
    "            name=year+'q1'\n",
    "            year_month.rename(columns={year_month.columns[i]:name},inplace=True)\n",
    "        elif year_month.columns[i].split('-')[1].strip() in ['04','05','06']:\n",
    "            name=year+'q2'\n",
    "            year_month.rename(columns={year_month.columns[i]:name},inplace=True)\n",
    "        elif year_month.columns[i].split('-')[1].strip() in ['07','08','09']:\n",
    "            name=year+'q3'\n",
    "            year_month.rename(columns={year_month.columns[i]:name},inplace=True)\n",
    "        else:\n",
    "            name=year+'q4'\n",
    "            year_month.rename(columns={year_month.columns[i]:name},inplace=True)\n",
    "    \n",
    "    quarter_data=pd.merge(house_data[['State','RegionName']],year_month.transpose().groupby(level=0).mean().transpose(),left_index=True,right_index=True)\n",
    "    \n",
    "    quarter_data.set_index(['State','RegionName'],inplace=True)\n",
    "    '''\n",
    "    \n",
    "    import pandas as pd\n",
    "    house_data=pd.read_csv('City_Zhvi_AllHomes.csv')\n",
    "    house_data['State']=house_data['State'].map(states)\n",
    "    house_data.set_index(['State','RegionName'],inplace=True)\n",
    "    house_data=house_data.loc[:,'2000-01':]\n",
    "    \n",
    "    new_columns = [str(x)+y for x in range(2000,2016) for y in ['q1','q2','q3']]\n",
    "    new_columns = new_columns[:-1]\n",
    "    \n",
    "    x = 0\n",
    "    \n",
    "    for column in new_columns: \n",
    "        house_data[column] = house_data.iloc[:,x:x+3].mean(axis=1)\n",
    "        x += 3\n",
    "        \n",
    "    house_data=house_data.loc[:,'2000q1':]\n",
    "    \n",
    "    return house_data"
   ]
  },
  {
   "cell_type": "code",
   "execution_count": 26,
   "metadata": {
    "collapsed": true,
    "umich_part_id": "026",
    "umich_partlist_id": "004"
   },
   "outputs": [],
   "source": [
    "def run_ttest():\n",
    "    '''First creates new data showing the decline or growth of housing prices\n",
    "    between the recession start and the recession bottom. Then runs a ttest\n",
    "    comparing the university town values to the non-university towns values, \n",
    "    return whether the alternative hypothesis (that the two groups are the same)\n",
    "    is true or not as well as the p-value of the confidence. \n",
    "    \n",
    "    Return the tuple (different, p, better) where different=True if the t-test is\n",
    "    True at a p<0.01 (we reject the null hypothesis), or different=False if \n",
    "    otherwise (we cannot reject the null hypothesis). The variable p should\n",
    "    be equal to the exact p value returned from scipy.stats.ttest_ind(). The\n",
    "    value for better should be either \"university town\" or \"non-university town\"\n",
    "    depending on which has a lower mean price ratio (which is equivilent to a\n",
    "    reduced market loss).'''\n",
    "    import pandas as pd\n",
    "    from scipy import stats\n",
    "    \n",
    "    start = get_recession_start()\n",
    "    #get the bottom of the recession\n",
    "    bottom = get_recession_bottom()\n",
    "    # get the zillow housing data in desired format\n",
    "    housing_data = convert_housing_data_to_quarters()\n",
    "    # keep only the columns from recession starting point and bottom.\n",
    "    housing_data = housing_data.loc[:, start: bottom]\n",
    "    # compute price ratio between the recession points and add it as a column.\n",
    "    housing_data.reset_index(inplace=True)\n",
    "    housing_data['price_ratio'] = (housing_data[start] - housing_data[bottom]) / housing_data[start]\n",
    "    # get the university town list to split the data.\n",
    "    uni_towns = get_list_of_university_towns()  \n",
    "    uni_town_list = uni_towns['RegionName'].tolist()\n",
    "    # add a column to use as splitting condition\n",
    "    housing_data['isUniTown'] = housing_data.RegionName.apply(lambda x: x in uni_town_list)\n",
    "    #split the data into two separate dataframes and drop rows with missing values. The dropping step is needed to\n",
    "    #perform the t-test\n",
    "    uni_data = housing_data[housing_data.isUniTown].copy().dropna()\n",
    "    not_uni_data = housing_data[~housing_data.isUniTown].copy().dropna()\n",
    "    # get the p-value by applying t-test on these two dataframe columns.\n",
    "    p = ttest_ind(uni_data['price_ratio'], not_uni_data['price_ratio'])[1]\n",
    "    # this boolean value will tell us whether we can reject the null hyopthesis or not.\n",
    "    different = p < 0.01   \n",
    "    # this metric will tell us which type of town has the lower housing price ratio (mean) during the recession\n",
    "    lower = 'university town' if uni_data['price_ratio'].mean() < not_uni_data['price_ratio'].mean() else 'non-university town'\n",
    "    \n",
    "\n",
    "\n",
    "    \n",
    "    return (different, p, lower)"
   ]
  }
 ],
 "metadata": {
  "coursera": {
   "course_slug": "python-data-analysis",
   "graded_item_id": "Il9Fx",
   "launcher_item_id": "TeDW0",
   "part_id": "WGlun"
  },
  "kernelspec": {
   "display_name": "Python 3",
   "language": "python",
   "name": "python3"
  },
  "language_info": {
   "codemirror_mode": {
    "name": "ipython",
    "version": 3
   },
   "file_extension": ".py",
   "mimetype": "text/x-python",
   "name": "python",
   "nbconvert_exporter": "python",
   "pygments_lexer": "ipython3",
   "version": "3.6.2"
  },
  "umich": {
   "id": "Assignment 4",
   "version": "1.1"
  }
 },
 "nbformat": 4,
 "nbformat_minor": 1
}
